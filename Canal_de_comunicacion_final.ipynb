{
  "nbformat": 4,
  "nbformat_minor": 0,
  "metadata": {
    "colab": {
      "provenance": [],
      "authorship_tag": "ABX9TyMAiTc9j2WPIbvc3kbr6M9q",
      "include_colab_link": true
    },
    "kernelspec": {
      "name": "python3",
      "display_name": "Python 3"
    },
    "language_info": {
      "name": "python"
    }
  },
  "cells": [
    {
      "cell_type": "markdown",
      "metadata": {
        "id": "view-in-github",
        "colab_type": "text"
      },
      "source": [
        "<a href=\"https://colab.research.google.com/github/Ivanrdgz14/Teoria-de-la-informaci-n/blob/main/Canal_de_comunicacion_final.ipynb\" target=\"_parent\"><img src=\"https://colab.research.google.com/assets/colab-badge.svg\" alt=\"Open In Colab\"/></a>"
      ]
    },
    {
      "cell_type": "code",
      "source": [
        "import random\n",
        "import math\n",
        "import time\n",
        "import heapq\n",
        "from collections import Counter, namedtuple"
      ],
      "metadata": {
        "id": "hYPon4u70nR0"
      },
      "execution_count": null,
      "outputs": []
    },
    {
      "cell_type": "code",
      "source": [
        "def convertir_a_hexadecimal(archivo_entrada):\n",
        "    try:\n",
        "        # Abrir el archivo de entrada en modo lectura ('r')\n",
        "        with open(archivo_entrada, 'r') as entrada:\n",
        "            # Leer el contenido del archivo\n",
        "            contenido = entrada.read()\n",
        "\n",
        "            # Convertir cada carácter en su representación hexadecimal\n",
        "            contenido_hexadecimal = ''.join([format(ord(char), '02x') for char in contenido])\n",
        "\n",
        "        # Devolver la cadena en formato hexadecimal\n",
        "        return contenido_hexadecimal\n",
        "    except Exception as e:\n",
        "        # En caso de error, imprimir un mensaje de error y devolver None\n",
        "        print(f'Error: {str(e)}')\n",
        "        return None"
      ],
      "metadata": {
        "id": "ejId7I7Bxcnm"
      },
      "execution_count": null,
      "outputs": []
    },
    {
      "cell_type": "code",
      "source": [
        "# Definición de un nodo para el árbol de Huffman utilizando namedtuple\n",
        "class NodoHuffman(namedtuple(\"NodoHuffman\", [\"caracter\", \"frecuencia\", \"izquierda\", \"derecha\"])):\n",
        "    def __lt__(self, otro):\n",
        "        return self.frecuencia < otro.frecuencia  # Define una comparación para la cola de prioridad"
      ],
      "metadata": {
        "id": "xot0Oc91FRXf"
      },
      "execution_count": null,
      "outputs": []
    },
    {
      "cell_type": "code",
      "source": [
        "def calcular_probabilidad_hex(cadena_hex):\n",
        "    # Convierte la cadena hexadecimal a una lista de caracteres\n",
        "    caracteres = [cadena_hex[i:i+2] for i in range(0, len(cadena_hex), 2)]\n",
        "\n",
        "    # Calcula la frecuencia de cada carácter\n",
        "    frecuencias = Counter(caracteres)\n",
        "\n",
        "    # Calcula el número total de caracteres en la cadena\n",
        "    total_caracteres = len(caracteres)\n",
        "\n",
        "    # Calcula la probabilidad de cada carácter\n",
        "    probabilidades = {caracter: frecuencia / total_caracteres for caracter, frecuencia in frecuencias.items()}\n",
        "\n",
        "    # Ordena las probabilidades en función de las probabilidades en orden descendente\n",
        "    probabilidades_ordenadas = dict(sorted(probabilidades.items(), key=lambda item: item[1], reverse=True))\n",
        "\n",
        "    return probabilidades_ordenadas"
      ],
      "metadata": {
        "id": "hIkkagookaRH"
      },
      "execution_count": null,
      "outputs": []
    },
    {
      "cell_type": "code",
      "source": [
        "# Función para construir el árbol de Huffman a partir de las probabilidades\n",
        "def construir_arbol_huffman(probabilidades):\n",
        "    # Inicializa una cola de prioridad con los nodos Hoja (cada carácter es un nodo)\n",
        "    hojas = [NodoHuffman(caracter, probabilidad, None, None) for caracter, probabilidad in probabilidades.items()]\n",
        "    heapq.heapify(hojas)  # Convierte la lista en una cola de prioridad\n",
        "\n",
        "    # Construye el árbol de Huffman combinando nodos Hoja hasta que quede un único nodo Raíz\n",
        "    while len(hojas) > 1:\n",
        "        nodo_izquierda = heapq.heappop(hojas)  # Extrae el nodo con menor frecuencia\n",
        "        nodo_derecha = heapq.heappop(hojas)    # Extrae el siguiente nodo con menor frecuencia\n",
        "        # Crea un nuevo nodo que tiene como hijos a los dos nodos extraídos y la suma de sus frecuencias\n",
        "        nodo_padre = NodoHuffman(None, nodo_izquierda.frecuencia + nodo_derecha.frecuencia, nodo_izquierda, nodo_derecha)\n",
        "        heapq.heappush(hojas, nodo_padre)  # Agrega el nuevo nodo a la cola de prioridad\n",
        "\n",
        "    # El último nodo en la cola de prioridad es la raíz del árbol de Huffman\n",
        "    return hojas[0]"
      ],
      "metadata": {
        "id": "J8qcmc6LFIDA"
      },
      "execution_count": null,
      "outputs": []
    },
    {
      "cell_type": "code",
      "source": [
        "# Función para generar los códigos de Huffman a partir del árbol de Huffman\n",
        "def generar_codigos_huffman(arbol_huffman):\n",
        "    def generar_codigos_actual(nodo, codigo_actual=\"\"):\n",
        "        if nodo is not None:\n",
        "            if nodo.caracter is not None:\n",
        "                codigos[nodo.caracter] = codigo_actual  # Asigna el código actual al carácter si es un nodo Hoja\n",
        "            generar_codigos_actual(nodo.izquierda, codigo_actual + \"0\")  # Recorre hacia la izquierda (0)\n",
        "            generar_codigos_actual(nodo.derecha, codigo_actual + \"1\")    # Recorre hacia la derecha (1)\n",
        "\n",
        "    codigos = {}  # Diccionario para almacenar los códigos de Huffman\n",
        "    generar_codigos_actual(arbol_huffman)  # Llama a la función recursiva para generar los códigos\n",
        "    return codigos"
      ],
      "metadata": {
        "id": "ng4T86V1FbAu"
      },
      "execution_count": null,
      "outputs": []
    },
    {
      "cell_type": "code",
      "source": [
        "def shannon_fano(probabilidades):\n",
        "    # Ordena los caracteres en función de sus probabilidades en orden descendente\n",
        "    caracteres_ordenados = sorted(probabilidades.items(), key=lambda x: x[1], reverse=True)\n",
        "\n",
        "    # Crea un diccionario para almacenar los códigos\n",
        "    codigos = {}\n",
        "\n",
        "    izquierda = []\n",
        "    derecha = []\n",
        "\n",
        "    suma_total = sum(p[1] for p in caracteres_ordenados)\n",
        "    suma_izquierda = 0\n",
        "    mitad = suma_total / 2\n",
        "\n",
        "    for caracter, probabilidad in caracteres_ordenados:\n",
        "        if suma_izquierda + probabilidad <= mitad:\n",
        "            izquierda.append((caracter, probabilidad))\n",
        "            suma_izquierda += probabilidad\n",
        "        else:\n",
        "            derecha.append((caracter, probabilidad))\n",
        "\n",
        "    # Asigna '0' a la parte izquierda y '1' a la parte derecha del árbol\n",
        "    for caracter, _ in izquierda:\n",
        "        codigos[caracter] = '0'\n",
        "    for caracter, _ in derecha:\n",
        "        codigos[caracter] = '1'\n",
        "\n",
        "    return codigos\n"
      ],
      "metadata": {
        "id": "t_ca0Il_3cNA"
      },
      "execution_count": null,
      "outputs": []
    },
    {
      "cell_type": "code",
      "source": [
        "def hexadecimal_a_binario(probabilidades):\n",
        "    probabilidades_binarias = {}\n",
        "\n",
        "    for caracter_hex, probabilidad in probabilidades.items():\n",
        "        caracter_binario = bin(int(caracter_hex, 16))[2:].zfill(8)\n",
        "        probabilidades_binarias[caracter_hex] = caracter_binario\n",
        "\n",
        "    return probabilidades_binarias"
      ],
      "metadata": {
        "id": "g4tdk8sPz_Zs"
      },
      "execution_count": 40,
      "outputs": []
    },
    {
      "cell_type": "code",
      "source": [
        "def imprimir_codigos(codigos):\n",
        "    for caracter, codigo in codigos.items():\n",
        "        print(f\"Caracter: {caracter} - Código: {codigo}\")"
      ],
      "metadata": {
        "id": "bzOD3kNYvPCa"
      },
      "execution_count": null,
      "outputs": []
    },
    {
      "cell_type": "code",
      "source": [
        "# Definir el nombre del archivo de entrada\n",
        "archivo_entrada = 'Inteligencia_Artificial.txt'\n",
        "\n",
        "# Llamar a la función convertir_a_hexadecimal con el nombre del archivo de entrada\n",
        "contenido_en_hexadecimal = convertir_a_hexadecimal(archivo_entrada)\n",
        "\n",
        "probabilidades = calcular_probabilidad_hex(contenido_en_hexadecimal)\n",
        "\n",
        "opcion = int(input(\"Si quieres shannon_fano escribe 1, Si quieres Huffman escribe 2, Si quieres Binario 3: \"))\n",
        "\n",
        "if opcion == 1:\n",
        "  print(\"Elegiste Shannon Fano\")\n",
        "  codigos_shannon = shannon_fano(probabilidades)\n",
        "  imprimir_codigos(codigos_shannon)\n",
        "\n",
        "if opcion == 2:\n",
        "\n",
        "  print(\"Elegiste Huffman\")\n",
        "  # Construye el árbol de Huffman a partir de las probabilidades\n",
        "  arbol_huffman = construir_arbol_huffman(probabilidades)\n",
        "\n",
        "  #  Genera los códigos de Huffman para cada carácter\n",
        "  codigos_huffman = generar_codigos_huffman(arbol_huffman)\n",
        "  imprimir_codigos(codigos_huffman)\n",
        "\n",
        "if opcion == 3:\n",
        "  print(\"Elegiste Binario\")\n",
        "  codigo_binario = hexadecimal_a_binario(probabilidades)\n",
        "  imprimir_codigos(codigo_binario)\n",
        "\n"
      ],
      "metadata": {
        "colab": {
          "base_uri": "https://localhost:8080/"
        },
        "id": "zmQ8R2jH-iRf",
        "outputId": "652a1e3a-9d91-4af2-e80f-4b5791ce9e43"
      },
      "execution_count": 41,
      "outputs": [
        {
          "output_type": "stream",
          "name": "stdout",
          "text": [
            "Si quieres shannon_fano escribe 1, Si quieres Huffman escribe 2, Si quieres Binario 3: 3\n",
            "Elegiste Binario\n",
            "Caracter: 20 - Código: 00100000\n",
            "Caracter: 61 - Código: 01100001\n",
            "Caracter: 65 - Código: 01100101\n",
            "Caracter: 6f - Código: 01101111\n",
            "Caracter: 73 - Código: 01110011\n",
            "Caracter: 6e - Código: 01101110\n",
            "Caracter: 69 - Código: 01101001\n",
            "Caracter: 72 - Código: 01110010\n",
            "Caracter: 6c - Código: 01101100\n",
            "Caracter: 64 - Código: 01100100\n",
            "Caracter: 74 - Código: 01110100\n",
            "Caracter: 63 - Código: 01100011\n",
            "Caracter: 75 - Código: 01110101\n",
            "Caracter: 6d - Código: 01101101\n",
            "Caracter: 70 - Código: 01110000\n",
            "Caracter: 67 - Código: 01100111\n",
            "Caracter: 76 - Código: 01110110\n",
            "Caracter: 41 - Código: 01000001\n",
            "Caracter: 2e - Código: 00101110\n",
            "Caracter: 79 - Código: 01111001\n",
            "Caracter: 7a - Código: 01111010\n",
            "Caracter: 66 - Código: 01100110\n",
            "Caracter: e1 - Código: 11100001\n",
            "Caracter: 71 - Código: 01110001\n",
            "Caracter: 2c - Código: 00101100\n",
            "Caracter: f3 - Código: 11110011\n",
            "Caracter: 62 - Código: 01100010\n",
            "Caracter: 49 - Código: 01001001\n",
            "Caracter: 6a - Código: 01101010\n",
            "Caracter: 68 - Código: 01101000\n",
            "Caracter: 0a - Código: 00001010\n",
            "Caracter: e9 - Código: 11101001\n",
            "Caracter: ed - Código: 11101101\n",
            "Caracter: 4c - Código: 01001100\n",
            "Caracter: 45 - Código: 01000101\n",
            "Caracter: fa - Código: 11111010\n",
            "Caracter: 55 - Código: 01010101\n",
            "Caracter: 53 - Código: 01010011\n",
            "Caracter: 78 - Código: 01111000\n",
            "Caracter: 50 - Código: 01010000\n",
            "Caracter: 28 - Código: 00101000\n",
            "Caracter: 29 - Código: 00101001\n",
            "Caracter: 39 - Código: 00111001\n",
            "Caracter: 44 - Código: 01000100\n",
            "Caracter: 42 - Código: 01000010\n",
            "Caracter: f1 - Código: 11110001\n",
            "Caracter: 31 - Código: 00110001\n",
            "Caracter: 37 - Código: 00110111\n",
            "Caracter: 4d - Código: 01001101\n",
            "Caracter: 47 - Código: 01000111\n",
            "Caracter: 4b - Código: 01001011\n",
            "Caracter: 4e - Código: 01001110\n",
            "Caracter: 43 - Código: 01000011\n"
          ]
        }
      ]
    },
    {
      "cell_type": "code",
      "source": [
        "for caracter, probabilidad in probabilidades.items():\n",
        "    print(f\"Carácter: {caracter}, Probabilidad: {probabilidad:.4f}\")"
      ],
      "metadata": {
        "colab": {
          "base_uri": "https://localhost:8080/"
        },
        "id": "gRzOHB4ulrCW",
        "outputId": "d40ec14d-3619-4fb3-c175-dbd270b538a3"
      },
      "execution_count": null,
      "outputs": [
        {
          "output_type": "stream",
          "name": "stdout",
          "text": [
            "Carácter: 20, Probabilidad: 0.1574\n",
            "Carácter: 61, Probabilidad: 0.1055\n",
            "Carácter: 65, Probabilidad: 0.0990\n",
            "Carácter: 6f, Probabilidad: 0.0611\n",
            "Carácter: 73, Probabilidad: 0.0601\n",
            "Carácter: 6e, Probabilidad: 0.0578\n",
            "Carácter: 69, Probabilidad: 0.0542\n",
            "Carácter: 72, Probabilidad: 0.0469\n",
            "Carácter: 6c, Probabilidad: 0.0422\n",
            "Carácter: 64, Probabilidad: 0.0406\n",
            "Carácter: 74, Probabilidad: 0.0401\n",
            "Carácter: 63, Probabilidad: 0.0342\n",
            "Carácter: 75, Probabilidad: 0.0302\n",
            "Carácter: 6d, Probabilidad: 0.0296\n",
            "Carácter: 70, Probabilidad: 0.0229\n",
            "Carácter: 67, Probabilidad: 0.0095\n",
            "Carácter: 76, Probabilidad: 0.0074\n",
            "Carácter: 41, Probabilidad: 0.0073\n",
            "Carácter: 2e, Probabilidad: 0.0069\n",
            "Carácter: 79, Probabilidad: 0.0069\n",
            "Carácter: 7a, Probabilidad: 0.0065\n",
            "Carácter: 66, Probabilidad: 0.0061\n",
            "Carácter: e1, Probabilidad: 0.0061\n",
            "Carácter: 71, Probabilidad: 0.0061\n",
            "Carácter: 2c, Probabilidad: 0.0059\n",
            "Carácter: f3, Probabilidad: 0.0059\n",
            "Carácter: 62, Probabilidad: 0.0059\n",
            "Carácter: 49, Probabilidad: 0.0055\n",
            "Carácter: 6a, Probabilidad: 0.0052\n",
            "Carácter: 68, Probabilidad: 0.0046\n",
            "Carácter: 0a, Probabilidad: 0.0046\n",
            "Carácter: e9, Probabilidad: 0.0038\n",
            "Carácter: ed, Probabilidad: 0.0029\n",
            "Carácter: 4c, Probabilidad: 0.0025\n",
            "Carácter: 45, Probabilidad: 0.0015\n",
            "Carácter: fa, Probabilidad: 0.0013\n",
            "Carácter: 55, Probabilidad: 0.0006\n",
            "Carácter: 53, Probabilidad: 0.0006\n",
            "Carácter: 78, Probabilidad: 0.0006\n",
            "Carácter: 50, Probabilidad: 0.0006\n",
            "Carácter: 28, Probabilidad: 0.0004\n",
            "Carácter: 29, Probabilidad: 0.0004\n",
            "Carácter: 39, Probabilidad: 0.0004\n",
            "Carácter: 44, Probabilidad: 0.0004\n",
            "Carácter: 42, Probabilidad: 0.0004\n",
            "Carácter: f1, Probabilidad: 0.0002\n",
            "Carácter: 31, Probabilidad: 0.0002\n",
            "Carácter: 37, Probabilidad: 0.0002\n",
            "Carácter: 4d, Probabilidad: 0.0002\n",
            "Carácter: 47, Probabilidad: 0.0002\n",
            "Carácter: 4b, Probabilidad: 0.0002\n",
            "Carácter: 4e, Probabilidad: 0.0002\n",
            "Carácter: 43, Probabilidad: 0.0002\n"
          ]
        }
      ]
    },
    {
      "cell_type": "code",
      "source": [
        "def calcular_entropia(cadena_hexadecimal):\n",
        "    n = 16  # 16 caracteres posibles en hexadecimal (0-9 y A-F)\n",
        "    frecuencias = {}  # Diccionario para contar las ocurrencias de cada carácter\n",
        "\n",
        "    # Contar las ocurrencias de cada carácter en la cadena\n",
        "    for caracter in cadena_hexadecimal:\n",
        "        frecuencias[caracter] = frecuencias.get(caracter, 0) + 1\n",
        "\n",
        "    # Calcular la entropía\n",
        "    entropia = 0.0\n",
        "    total_caracteres = len(cadena_hexadecimal)\n",
        "    for frecuencia in frecuencias.values():\n",
        "        probabilidad = frecuencia / total_caracteres\n",
        "        entropia -= probabilidad * math.log2(probabilidad)\n",
        "\n",
        "    return entropia"
      ],
      "metadata": {
        "id": "NaoFlUPQEf4Y"
      },
      "execution_count": null,
      "outputs": []
    },
    {
      "cell_type": "code",
      "source": [
        "# Definición de la función simular_canal_ethernet con retraso selectivo\n",
        "def simular_canal_ethernet(cadena_hexadecimal, probabilidad_ruido):\n",
        "    # Inicialización de una cadena vacía para almacenar el resultado con ruido\n",
        "    cadena_con_ruido = \"\"\n",
        "\n",
        "    # Recorremos cada carácter en la cadena hexadecimal de entrada\n",
        "    for caracter in cadena_hexadecimal:\n",
        "        # Generar un número aleatorio entre 0 y 1 usando random.random()\n",
        "        # y compararlo con la probabilidad de ruido para decidir si se aplica ruido o no\n",
        "        if random.random() < probabilidad_ruido:\n",
        "            # Si el número aleatorio es menor que la probabilidad de ruido,\n",
        "            # significa que se activa el ruido y se cambia el carácter a uno aleatorio en hexadecimal\n",
        "            nuevo_caracter = random.choice(\"0123456789ABCDEF\")\n",
        "            cadena_con_ruido += nuevo_caracter\n",
        "\n",
        "            # Agregar un retraso de 0.10 segundos si el carácter fue afectado por el ruido\n",
        "            time.sleep(0.01)\n",
        "        else:\n",
        "            # Si el número aleatorio es igual o mayor que la probabilidad de ruido,\n",
        "            # se conserva el carácter original sin ruido\n",
        "            cadena_con_ruido += caracter\n",
        "\n",
        "    # Devolver la cadena resultante con ruido\n",
        "    return cadena_con_ruido\n"
      ],
      "metadata": {
        "id": "qJgT3ENM-iW_"
      },
      "execution_count": null,
      "outputs": []
    },
    {
      "cell_type": "code",
      "source": [
        "# Definir la probabilidad de ruido como 0.2, lo que significa un 20% de probabilidad de ruido en cada carácter\n",
        "probabilidad_ruido = 0.2\n",
        "# Llamar a la función simular_canal_ethernet para aplicar ruido a la cadena hexadecimal original\n",
        "cadena_con_ruido = simular_canal_ethernet(contenido_en_hexadecimal, probabilidad_ruido)\n",
        "# Imprimir la cadena hexadecimal original\n",
        "print(\"Cadena original:\", contenido_en_hexadecimal)\n",
        "# Imprimir la cadena resultante con ruido\n",
        "print(\"Cadena con ruido:\", cadena_con_ruido)\n",
        "# Calcular la entropía del ruido en la cadena con ruido utilizando la función calcular_entropia\n",
        "entropia_ruido = calcular_entropia(cadena_con_ruido)\n",
        "# Imprimir la entropía del ruido\n",
        "print(f'Entropía del ruido: {entropia_ruido}')\n"
      ],
      "metadata": {
        "colab": {
          "base_uri": "https://localhost:8080/"
        },
        "id": "qX7t0xwjACba",
        "outputId": "f1ba369f-56df-493a-9eca-b82dceaa8827"
      },
      "execution_count": null,
      "outputs": [
        {
          "output_type": "stream",
          "name": "stdout",
          "text": [
            "Cadena original: 204c6120696e74656c6967656e636961206172746966696369616c202849412920657320756e2063616d706f206465206c6120696e666f726de1746963612071756520736520686120636f6e7665727469646f20656e20756e2074656d612063616e64656e746520656e206c6f7320fa6c74696d6f732061f16f732e204c6120494120736520726566696572652061206c6120636170616369646164206465206c6173206de17175696e61732070617261207265616c697a61722074617265617320717565206e6f726d616c6d656e7465207265717565726972ed616e206c6120696e74656c6967656e6369612068756d616e612e2045737461732074617265617320696e636c7579656e20656c2070726f636573616d69656e746f206465206c656e6775616a65206e61747572616c2c20656c207265636f6e6f63696d69656e746f20646520706174726f6e65732c206c6120746f6d61206465206465636973696f6e65732079206c61207265736f6c756369f36e2064652070726f626c656d61732e204c61204941206861206176616e7a61646f207369676e6966696361746976616d656e746520656e206c617320fa6c74696d61732064e96361646173207920686120656e636f6e747261646f2061706c69636163696f6e657320656e20756e6120616d706c69612076617269656461642064652063616d706f732c206465736465206c61206d65646963696e61206861737461206c61206175746f6d6f6369f36e2079206c6120696e64757374726961206465206c6f7320766964656f6a7565676f732e0a0a556e6f206465206c6f73206869746f73206de173207369676e69666963617469766f7320656e206c6120686973746f726961206465206c6120494120667565206c6120637265616369f36e206465206c61207072696d657261206de17175696e6120646520616a656472657a20636170617a2064652076656e636572206120756e2063616d7065f36e206d756e6469616c20656e20313939372e204c6120636f6d70757461646f7261204465657020426c75652064652049424d20646572726f74f320616c2063616d7065f36e20646520616a656472657a204761727279204b61737061726f7620656e20756e6120706172746964612068697374f3726963612e2045737465206576656e746f2064656d6f737472f320717565206c6173206de17175696e617320706f64ed616e20737570657261722061206c6f732068756d616e6f7320656e2074617265617320616c74616d656e746520636f6d706c656a6173207920657374726174e967696361732e0a0a446573646520656e746f6e6365732c206c6120494120686120636f6e74696e7561646f206176616e7a616e646f206120756e207269746d6f20766572746967696e6f736f2e20556e6f206465206c6f73206465736172726f6c6c6f73206de173206e6f7461626c657320657320656c20617072656e64697a616a65206175746f6de17469636f2c20756e612072616d61206465206c61204941207175652073652063656e74726120656e20656c206465736172726f6c6c6f20646520616c676f7269746d6f7320717565207065726d6974656e2061206c6173206de17175696e617320617072656e646572206465206461746f732079206d656a6f7261722073752072656e64696d69656e746f20636f6e20656c207469656d706f2e20456c20617072656e64697a616a65206175746f6de17469636f20686120696d70756c7361646f206176616e636573207369676e69666963617469766f7320656e20e17265617320636f6d6f206c612076697369f36e20706f7220636f6d70757461646f72612c20656c2070726f636573616d69656e746f206465206c656e6775616a65206e61747572616c2079206c6120726f62f3746963612e0a0a456e20656c2070726f636573616d69656e746f206465206c656e6775616a65206e61747572616c2c206c61204941207365206861207574696c697a61646f2070617261206465736172726f6c6c6172206173697374656e746573207669727475616c657320636f6d6f2053697269206465204170706c65207920416c65786120646520416d617a6f6e2e204573746f732073697374656d61732070756564656e20636f6d7072656e646572207920726573706f6e6465722061206c61732070726567756e746173207920636f6d616e646f73206465206c6f73207573756172696f732c206c6f20717565206c6f7320636f6e76696572746520656e2068657272616d69656e74617320fa74696c657320706172612074617265617320636f6d6f206c612062fa73717565646120656e206ced6e65612c206c61206765737469f36e206465206c61206167656e64612079206c61206175746f6d6174697a616369f36e2064656c20686f6761722e0a0a4c612049412074616d6269e96e20686120656e636f6e747261646f2061706c69636163696f6e657320656e20656c2063616d706f206465206c61206d65646963696e612e204c6f7320616c676f7269746d6f7320646520617072656e64697a616a65206175746f6de17469636f207365207574696c697a616e207061726120616e616c697a617220696de167656e6573206de964696361732c20636f6d6f20726164696f67726166ed61732079207265736f6e616e63696173206d61676ee974696361732c20792061797564617220656e20656c20646961676ef3737469636f20646520656e6665726d6564616465732e204164656de1732c206c61204941207365206861207574696c697a61646f20656e206c6120696e766573746967616369f36e2064652066e1726d61636f732c206163656c6572616e646f20656c2070726f6365736f2064652064657363756272696d69656e746f206465206e7565766f73206d65646963616d656e746f732e0a0a456e206c6120696e64757374726961206175746f6d6f7472697a2c206c61204941207365207574696c697a6120656e206c6120637265616369f36e20646520766568ed63756c6f7320617574f36e6f6d6f732e204c6f73206175746f6df376696c657320617574f36e6f6d6f73207574696c697a616e2073656e736f726573207920616c676f7269746d6f732064652049412070617261206e617665676172206465206d616e6572612073656775726120706f72206c617320636172726574657261732c206c6f207175652070726f6d6574652072656475636972207369676e6966696361746976616d656e7465206c612074617361206465206163636964656e746573206465207472e16669636f20656e20656c2066757475726f2e0a0a4c612049412074616d6269e96e2068612074656e69646f20756e20696d706163746f20656e206c6120696e64757374726961206465206c6f7320766964656f6a7565676f732e204c6f73206a7565676f73206d6f6465726e6f732061206d656e75646f207574696c697a616e20616c676f7269746d6f73206465204941207061726120637265617220706572736f6e616a6573206e6f206a756761646f72657320284e5043292071756520736520636f6d706f7274616e206465206d616e657261207265616c697374612079206465736166ed616e2061206c6f73206a756761646f7265732e204164656de1732c206c61204941207365207574696c697a6120656e206c612067656e6572616369f36e20646520636f6e74656e69646f2c20636f6d6f206c6120637265616369f36e206175746f6de174696361206465206e6976656c65732079206d6973696f6e65732e0a0a5369206269656e206c61204941206861206176616e7a61646f20656e206d7563686f732063616d706f732c2074616d6269e96e20686120706c616e746561646f20756e61207365726965206465206465736166ed6f7320792070726567756e74617320e974696361732e20556e6f206465206c6f73207072696e636970616c65732070726f626c656d617320657320656c20646573656d706c656f207465636e6f6cf36769636f2c20796120717565206c61206175746f6d6174697a616369f36e20696d70756c7361646120706f72206c61204941207075656465207265656d706c617a61722074726162616a6f732071756520616e746573207265616c697a6162616e206c6f732068756d616e6f732e204164656de1732c206c6120707269766163696461642079206c6120736567757269646164206465206c6f73206461746f7320736f6e207072656f6375706163696f6e657320696d706f7274616e7465732c20796120717565206c61204941207075656465207574696c697a617273652070617261207265636f70696c6172207920616e616c697a6172206772616e6465732063616e7469646164657320646520696e666f726d616369f36e20706572736f6e616c2e0a0a4c6120746f6d61206465206465636973696f6e657320e974696361732074616d6269e96e20657320756e2074656d612063616e64656e746520656e206c612049412e20506f7220656a656d706c6f2c206c6f732073697374656d6173206465204941207574696c697a61646f7320656e2061706c69636163696f6e6573206465206a757374696369612070656e616c2070756564656e20696e74726f6475636972207072656a756963696f7320656e20656c2070726f6365736f20646520746f6d61206465206465636973696f6e6573207369206e6f20736520656e7472656e616e2061646563756164616d656e74652e204164656de1732c20657869737465206c61207072656f637570616369f36e20646520717565206c61732061726d617320617574f36e6f6d617320696d70756c736164617320706f72206c612049412070756564616e20736572207574696c697a61646173206465206d616e657261206972726573706f6e7361626c65206f206d616c6963696f73612e0a0a506172612061626f72646172206573746f73206465736166ed6f7320e97469636f732c20657320696d706f7274616e746520717565206c6120636f6d756e69646164206465206c612049412074726162616a6520656e206c6120637265616369f36e206465206d6172636f7320726567756c61746f72696f73207920657374e16e646172657320e97469636f7320717565206775ed656e20656c206465736172726f6c6c6f207920656c2075736f2064652065737461207465636e6f6c6f67ed612e204164656de1732c206573206372756369616c20717565206c6120666f726d616369f36e20656e20e974696361206465206c612049412073656120756e6120706172746520696e74656772616c206465206c612065647563616369f36e2079206c612063617061636974616369f36e206465206c6f732070726f666573696f6e616c657320656e20657374652063616d706f2e0a0a456e206375616e746f20616c2066757475726f206465206c612049412c20736520657370657261207175652073696761206176616e7a616e646f206120756e207269746d6f206163656c657261646f2e204c6f7320696e76657374696761646f72657320657374e16e206578706c6f72616e646f206e75657661732074e9636e6963617320646520617072656e64697a616a652070726f66756e646f2079206465736172726f6c6c616e646f2073697374656d6173206465204941206de173206176616e7a61646f73207175652070756564616e207265616c697a6172207461726561732061fa6e206de17320636f6d706c656a61732e204c612049412074616d6269e96e20736520657374e12061706c6963616e646f20656e20e17265617320656d657267656e74657320636f6d6f206c6120696e666f726de174696361206375e16e746963612c207175652070726f6d657465207265766f6c7563696f6e6172206c6120666f726d6120656e207175652073652072657375656c76656e2070726f626c656d617320636f6d706c656a6f732e0a0a4164656de1732c206c6120494120706f6472ed612074656e657220756e20706170656c20696d706f7274616e746520656e206c612062fa73717565646120646520736f6c7563696f6e65732061206465736166ed6f7320676c6f62616c657320636f6d6f20656c2063616d62696f20636c696de17469636f2079206c61206174656e6369f36e206de96469636120617365717569626c652e204c6120636170616369646164206465206c61204941207061726120616e616c697a6172206772616e64657320636f6e6a756e746f73206465206461746f73207920656e636f6e7472617220706174726f6e6573206f63756c746f73207075656465206179756461722061206c6f73206369656e74ed6669636f732079206c6f7320726573706f6e7361626c6573206465206c6120746f6d61206465206465636973696f6e657320612061626f72646172206573746f732070726f626c656d6173206465206d616e657261206de1732065666563746976612e0a0a456e20726573756d656e2c206c6120696e74656c6967656e636961206172746966696369616c20657320756e61207465636e6f6c6f67ed6120656e20636f6e7374616e74652065766f6c756369f36e20717565206861207265766f6c7563696f6e61646f206e756d65726f736f732063616d706f7320792070726f6d657465207365677569722068616369e96e646f6c6f20656e20656c2066757475726f2e205369206269656e2070726573656e7461206465736166ed6f7320e97469636f73207920736f6369616c65732c2074616d6269e96e206f6672656365206f706f7274756e69646164657320656d6f63696f6e616e7465732070617261206d656a6f726172206e7565737472617320766964617320792061626f726461722070726f626c656d617320617072656d69616e7465732061206e6976656c20676c6f62616c2e2041206d656469646120717565206c6120494120636f6e74696efa61206465736172726f6c6ce16e646f73652c2065732066756e64616d656e74616c207175652073652061706c697175656e207072696e636970696f7320e97469636f732079206e6f726d617469766173207061726120676172616e74697a61722071756520737520696d706163746f2073656120706f73697469766f20792062656e65666963696f736f2070617261206c6120736f63696564616420656e20737520636f6e6a756e746f2e\n",
            "Cadena con ruido: 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\n",
            "Entropía del ruido: 3.7499602241288583\n"
          ]
        }
      ]
    },
    {
      "cell_type": "code",
      "source": [
        "# Definición de la función restaurar_desde_hexadecimal\n",
        "def restaurar_desde_hexadecimal(cadena_hexadecimal, archivo_salida):\n",
        "    try:\n",
        "        # Abrir el archivo de salida en modo escritura ('w') y especificar la codificación como 'utf-8'\n",
        "        with open(archivo_salida, 'w', encoding='utf-8') as archivo:\n",
        "            # Iterar a través de la cadena hexadecimal en bloques de dos caracteres (un byte hexadecimal)\n",
        "            for i in range(0, len(cadena_hexadecimal), 2):\n",
        "                hex_byte = cadena_hexadecimal[i:i+2]  # Obtener un byte hexadecimal de dos caracteres\n",
        "                try:\n",
        "                    # Convertir el byte hexadecimal en un carácter de texto y escribirlo en el archivo\n",
        "                    byte = bytes.fromhex(hex_byte).decode('utf-8')\n",
        "                    archivo.write(byte)\n",
        "                except ValueError:\n",
        "                    # En caso de error al convertir los bytes hexadecimales, se escribe un carácter de reemplazo ('??') en el archivo\n",
        "                    archivo.write('??')\n",
        "\n",
        "        # Imprimir un mensaje de éxito después de restaurar y escribir el contenido en el archivo\n",
        "        print(f'Se ha restaurado y escrito el contenido en {archivo_salida}')\n",
        "    except Exception as e:\n",
        "        # En caso de error al escribir en el archivo, imprimir un mensaje de error\n",
        "        print(f'Error al escribir en el archivo: {str(e)}')\n"
      ],
      "metadata": {
        "id": "QOvzuvyRAAcD"
      },
      "execution_count": null,
      "outputs": []
    },
    {
      "cell_type": "code",
      "source": [
        "# Asignar la cadena con ruido a la variable cadena_hexadecimal\n",
        "cadena_hexadecimal = cadena_con_ruido\n",
        "# Definir el nombre del archivo de salida donde se escribirá el contenido restaurado\n",
        "archivo_salida = \"Inteligencia_Artificial_nuevo\"\n",
        "# Llamar a la función restaurar_desde_hexadecimal para restaurar la cadena_hexadecimal en texto\n",
        "cadena_texto = restaurar_desde_hexadecimal(cadena_hexadecimal, archivo_salida)\n",
        "\n"
      ],
      "metadata": {
        "colab": {
          "base_uri": "https://localhost:8080/"
        },
        "id": "3PGcKAWhAKCA",
        "outputId": "3e2bb428-e237-436a-ba5d-d1791d16dfaa"
      },
      "execution_count": null,
      "outputs": [
        {
          "output_type": "stream",
          "name": "stdout",
          "text": [
            "Se ha restaurado y escrito el contenido en Inteligencia_Artificial_nuevo\n"
          ]
        }
      ]
    }
  ]
}